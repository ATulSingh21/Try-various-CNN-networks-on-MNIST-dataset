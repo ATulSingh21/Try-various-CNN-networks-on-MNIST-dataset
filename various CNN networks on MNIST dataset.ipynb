{
 "cells": [
  {
   "cell_type": "code",
   "execution_count": 0,
   "metadata": {
    "colab": {},
    "colab_type": "code",
    "id": "ptzglbehV15N"
   },
   "outputs": [],
   "source": [
    "%matplotlib inline\n",
    "import matplotlib.pyplot as plt\n",
    "import numpy as np\n",
    "import time\n",
    "# https://gist.github.com/greydanus/f6eee59eaf1d90fcb3b534a25362cea4\n",
    "# https://stackoverflow.com/a/14434334\n",
    "# this function is used to update the plots for each epoch and error\n",
    "def plt_dynamic(x, vy, ty, ax, colors=['b']):\n",
    "    ax.plot(x, vy, 'b', label=\"Validation Loss\")\n",
    "    ax.plot(x, ty, 'r', label=\"Train Loss\")\n",
    "    plt.legend()\n",
    "    plt.grid()\n",
    "    fig.canvas.draw()"
   ]
  },
  {
   "cell_type": "markdown",
   "metadata": {
    "colab_type": "text",
    "id": "obqTif0lGwbe"
   },
   "source": [
    "<h1>3 CONVOLUTIONAL LAYER ARCHITECTURE</h1>"
   ]
  },
  {
   "cell_type": "code",
   "execution_count": 1,
   "metadata": {
    "colab": {
     "base_uri": "https://localhost:8080/",
     "height": 119
    },
    "colab_type": "code",
    "id": "Qw6SzKsSW7Fy",
    "outputId": "64384589-818f-4d04-ae8d-d5ee805347fb"
   },
   "outputs": [
    {
     "name": "stderr",
     "output_type": "stream",
     "text": [
      "Using TensorFlow backend.\n"
     ]
    },
    {
     "name": "stdout",
     "output_type": "stream",
     "text": [
      "Downloading data from https://s3.amazonaws.com/img-datasets/mnist.npz\n",
      "11493376/11490434 [==============================] - 0s 0us/step\n",
      "x_train shape: (60000, 28, 28, 1)\n",
      "60000 train samples\n",
      "10000 test samples\n"
     ]
    }
   ],
   "source": [
    "# Credits: https://github.com/keras-team/keras/blob/master/examples/mnist_cnn.py\n",
    "\n",
    "\n",
    "from __future__ import print_function\n",
    "import keras\n",
    "from keras.datasets import mnist\n",
    "from keras.models import Sequential\n",
    "from keras.layers import Dense, Dropout, Flatten\n",
    "from keras.layers import Conv2D, MaxPooling2D\n",
    "from keras import backend as K\n",
    "\n",
    "batch_size = 128\n",
    "num_classes = 10\n",
    "epochs = 12\n",
    "\n",
    "# input image dimensions\n",
    "img_rows, img_cols = 28, 28\n",
    "\n",
    "# the data, split between train and test sets\n",
    "(x_train, y_train), (x_test, y_test) = mnist.load_data()\n",
    "\n",
    "if K.image_data_format() == 'channels_first':\n",
    "    x_train = x_train.reshape(x_train.shape[0], 1, img_rows, img_cols)\n",
    "    x_test = x_test.reshape(x_test.shape[0], 1, img_rows, img_cols)\n",
    "    input_shape = (1, img_rows, img_cols)\n",
    "else:\n",
    "    x_train = x_train.reshape(x_train.shape[0], img_rows, img_cols, 1)\n",
    "    x_test = x_test.reshape(x_test.shape[0], img_rows, img_cols, 1)\n",
    "    input_shape = (img_rows, img_cols, 1)\n",
    "\n",
    "x_train = x_train.astype('float32')\n",
    "x_test = x_test.astype('float32')\n",
    "x_train /= 255\n",
    "x_test /= 255\n",
    "print('x_train shape:', x_train.shape)\n",
    "print(x_train.shape[0], 'train samples')\n",
    "print(x_test.shape[0], 'test samples')\n",
    "\n",
    "# convert class vectors to binary class matrices\n",
    "y_train = keras.utils.to_categorical(y_train, num_classes)\n",
    "y_test = keras.utils.to_categorical(y_test, num_classes)"
   ]
  },
  {
   "cell_type": "code",
   "execution_count": 0,
   "metadata": {
    "colab": {
     "base_uri": "https://localhost:8080/",
     "height": 527
    },
    "colab_type": "code",
    "id": "H9EU0e8yzFOm",
    "outputId": "95164837-f22d-441a-ad0f-68eae937d2dd"
   },
   "outputs": [
    {
     "name": "stdout",
     "output_type": "stream",
     "text": [
      "x_train shape: (60000, 1, 28, 28)\n",
      "60000 train samples\n",
      "10000 test samples\n",
      "Train on 60000 samples, validate on 10000 samples\n",
      "Epoch 1/12\n",
      "60000/60000 [==============================] - 303s 5ms/step - loss: 0.2738 - acc: 0.9167 - val_loss: 0.0574 - val_acc: 0.9818\n",
      "Epoch 2/12\n",
      "60000/60000 [==============================] - 298s 5ms/step - loss: 0.0952 - acc: 0.9721 - val_loss: 0.0452 - val_acc: 0.9855\n",
      "Epoch 3/12\n",
      "60000/60000 [==============================] - 298s 5ms/step - loss: 0.0742 - acc: 0.9786 - val_loss: 0.0584 - val_acc: 0.9839\n",
      "Epoch 4/12\n",
      "60000/60000 [==============================] - 299s 5ms/step - loss: 0.0664 - acc: 0.9808 - val_loss: 0.0412 - val_acc: 0.9865\n",
      "Epoch 5/12\n",
      "60000/60000 [==============================] - 300s 5ms/step - loss: 0.0629 - acc: 0.9826 - val_loss: 0.0389 - val_acc: 0.9889\n",
      "Epoch 6/12\n",
      "60000/60000 [==============================] - 298s 5ms/step - loss: 0.0619 - acc: 0.9836 - val_loss: 0.0474 - val_acc: 0.9866\n",
      "Epoch 7/12\n",
      "60000/60000 [==============================] - 297s 5ms/step - loss: 0.0608 - acc: 0.9847 - val_loss: 0.0475 - val_acc: 0.9895\n",
      "Epoch 8/12\n",
      "60000/60000 [==============================] - 301s 5ms/step - loss: 0.0579 - acc: 0.9853 - val_loss: 0.0554 - val_acc: 0.9863\n",
      "Epoch 9/12\n",
      "60000/60000 [==============================] - 303s 5ms/step - loss: 0.0593 - acc: 0.9853 - val_loss: 0.0478 - val_acc: 0.9883\n",
      "Epoch 10/12\n",
      "60000/60000 [==============================] - 300s 5ms/step - loss: 0.0613 - acc: 0.9857 - val_loss: 0.0516 - val_acc: 0.9875\n",
      "Epoch 11/12\n",
      "60000/60000 [==============================] - 300s 5ms/step - loss: 0.0651 - acc: 0.9849 - val_loss: 0.0903 - val_acc: 0.9800\n",
      "Epoch 12/12\n",
      "60000/60000 [==============================] - 299s 5ms/step - loss: 0.0669 - acc: 0.9851 - val_loss: 0.0688 - val_acc: 0.9880\n",
      "Test loss: 0.06882046415213076\n",
      "Test accuracy: 0.988\n"
     ]
    }
   ],
   "source": [
    "model = Sequential()\n",
    "model.add(Conv2D(32, kernel_size=(3, 3),\n",
    "                 activation='relu',\n",
    "                 input_shape=input_shape))\n",
    "model.add(Conv2D(64, (3, 3), activation='relu'))\n",
    "model.add(MaxPooling2D(pool_size=(2, 2)))\n",
    "model.add(Dropout(0.25))\n",
    "model.add(Conv2D(128, (3, 3), activation='relu'))\n",
    "model.add(Flatten())\n",
    "model.add(Dense(128, activation='relu'))\n",
    "model.add(Dropout(0.5))\n",
    "model.add(Dense(num_classes, activation='softmax'))\n",
    "\n",
    "model.compile(loss=keras.losses.categorical_crossentropy,\n",
    "              optimizer=keras.optimizers.Adadelta(),\n",
    "              metrics=['accuracy'])\n",
    "\n",
    "history=model.fit(x_train, y_train,\n",
    "          batch_size=batch_size,\n",
    "          epochs=epochs,\n",
    "          verbose=1,\n",
    "          validation_data=(x_test, y_test))\n",
    "score = model.evaluate(x_test, y_test, verbose=0)\n",
    "print('Test loss:', score[0])\n",
    "print('Test accuracy:', score[1])"
   ]
  },
  {
   "cell_type": "code",
   "execution_count": 0,
   "metadata": {
    "colab": {
     "base_uri": "https://localhost:8080/",
     "height": 317
    },
    "colab_type": "code",
    "id": "vwRirmDzwfiC",
    "outputId": "94ade1e2-6293-4935-baa5-283fe45871f2"
   },
   "outputs": [
    {
     "name": "stdout",
     "output_type": "stream",
     "text": [
      "Test score: 0.06882046415213076\n",
      "Test accuracy: 0.988\n"
     ]
    },
    {
     "data": {
      "image/png": "[encoded data removed]",
      "text/plain": [
       "<Figure size 432x288 with 1 Axes>"
      ]
     },
     "metadata": {
      "tags": []
     },
     "output_type": "display_data"
    }
   ],
   "source": [
    "score = model.evaluate(x_test, y_test, verbose=0) \n",
    "print('Test score:', score[0]) \n",
    "print('Test accuracy:', score[1])\n",
    "\n",
    "fig,ax = plt.subplots(1,1)\n",
    "ax.set_xlabel('epoch') ; ax.set_ylabel('Categorical Crossentropy Loss')\n",
    "\n",
    "# list of epoch numbers\n",
    "x = list(range(1,epochs+1))\n",
    "\n",
    "# print(history.history.keys())\n",
    "# dict_keys(['val_loss', 'val_acc', 'loss', 'acc'])\n",
    "# history = model_drop.fit(X_train, Y_train, batch_size=batch_size, epochs=nb_epoch, verbose=1, validation_data=(X_test, Y_test))\n",
    "\n",
    "# we will get val_loss and val_acc only when you pass the paramter validation_data\n",
    "# val_loss : validation loss\n",
    "# val_acc : validation accuracy\n",
    "\n",
    "# loss : training loss\n",
    "# acc : train accuracy\n",
    "# for each key in histrory.histrory we will have a list of length equal to number of epochs\n",
    "\n",
    "vy = history.history['val_loss']\n",
    "ty = history.history['loss']\n",
    "plt_dynamic(x, vy, ty, ax)"
   ]
  },
  {
   "cell_type": "markdown",
   "metadata": {
    "colab_type": "text",
    "id": "wtK5jY151_7-"
   },
   "source": [
    "<h1>5 COVOLUTIONAL LAYER ARCHITECTURE</h1>"
   ]
  },
  {
   "cell_type": "code",
   "execution_count": 0,
   "metadata": {
    "colab": {},
    "colab_type": "code",
    "id": "on2SkUaX0ghp"
   },
   "outputs": [],
   "source": [
    "from keras import optimizers\n",
    "from keras.layers import BatchNormalization"
   ]
  },
  {
   "cell_type": "code",
   "execution_count": 0,
   "metadata": {
    "colab": {},
    "colab_type": "code",
    "id": "SpjbcfIDx-QZ"
   },
   "outputs": [],
   "source": [
    "model = Sequential()\n",
    "#layer 1 \n",
    "model.add(Conv2D(32, kernel_size=5,input_shape=input_shape, activation = 'relu'))\n",
    "\n",
    "\n",
    "model.add(MaxPooling2D(2,2))\n",
    "model.add(BatchNormalization())\n",
    "model.add(Dropout(0.4))\n",
    "#layer 2 \n",
    "model.add(Conv2D(64, kernel_size=3,activation = 'relu'))\n",
    "#layer 3\n",
    "model.add(Conv2D(64, kernel_size=3,activation = 'relu'))\n",
    "model.add(MaxPooling2D(2,2))\n",
    "\n",
    "#layer 4\n",
    "model.add(Conv2D(128, kernel_size=3, activation = 'relu'))\n",
    "#layer 5\n",
    "model.add(Conv2D(256, kernel_size=3, activation = 'relu'))\n",
    "model.add(BatchNormalization())\n",
    "\n",
    "\n",
    "model.add(Flatten())\n",
    "model.add(Dense(256, activation = \"relu\"))\n",
    "model.add(Dropout(0.4))\n",
    "model.add(Dense(128, activation = \"relu\"))\n",
    "model.add(Dropout(0.4))\n",
    "model.add(Dense(num_classes, activation = \"softmax\"))\n"
   ]
  },
  {
   "cell_type": "code",
   "execution_count": 0,
   "metadata": {
    "colab": {
     "base_uri": "https://localhost:8080/",
     "height": 476
    },
    "colab_type": "code",
    "id": "LjPXes7f0qZY",
    "outputId": "2d0c6b67-bdde-4a39-f8db-b4491f0f5240"
   },
   "outputs": [
    {
     "name": "stdout",
     "output_type": "stream",
     "text": [
      "Train on 60000 samples, validate on 10000 samples\n",
      "Epoch 1/12\n",
      "60000/60000 [==============================] - 115s 2ms/step - loss: 0.1623 - acc: 0.9530 - val_loss: 0.0411 - val_acc: 0.9868\n",
      "Epoch 2/12\n",
      "60000/60000 [==============================] - 112s 2ms/step - loss: 0.0740 - acc: 0.9795 - val_loss: 0.0374 - val_acc: 0.9894\n",
      "Epoch 3/12\n",
      "60000/60000 [==============================] - 112s 2ms/step - loss: 0.0522 - acc: 0.9854 - val_loss: 0.0382 - val_acc: 0.9889\n",
      "Epoch 4/12\n",
      "60000/60000 [==============================] - 112s 2ms/step - loss: 0.0414 - acc: 0.9886 - val_loss: 0.0285 - val_acc: 0.9918\n",
      "Epoch 5/12\n",
      "60000/60000 [==============================] - 112s 2ms/step - loss: 0.0362 - acc: 0.9900 - val_loss: 0.0293 - val_acc: 0.9919\n",
      "Epoch 6/12\n",
      "60000/60000 [==============================] - 113s 2ms/step - loss: 0.0320 - acc: 0.9910 - val_loss: 0.0251 - val_acc: 0.9938\n",
      "Epoch 7/12\n",
      "60000/60000 [==============================] - 113s 2ms/step - loss: 0.0260 - acc: 0.9931 - val_loss: 0.0292 - val_acc: 0.9928\n",
      "Epoch 8/12\n",
      "60000/60000 [==============================] - 113s 2ms/step - loss: 0.0299 - acc: 0.9915 - val_loss: 0.0264 - val_acc: 0.9926\n",
      "Epoch 9/12\n",
      "60000/60000 [==============================] - 111s 2ms/step - loss: 0.0203 - acc: 0.9940 - val_loss: 0.0285 - val_acc: 0.9920\n",
      "Epoch 10/12\n",
      "60000/60000 [==============================] - 111s 2ms/step - loss: 0.0227 - acc: 0.9939 - val_loss: 0.0382 - val_acc: 0.9916\n",
      "Epoch 11/12\n",
      "60000/60000 [==============================] - 111s 2ms/step - loss: 0.0176 - acc: 0.9951 - val_loss: 0.0327 - val_acc: 0.9919\n",
      "Epoch 12/12\n",
      "60000/60000 [==============================] - 111s 2ms/step - loss: 0.0181 - acc: 0.9948 - val_loss: 0.0333 - val_acc: 0.9917\n",
      "Test loss: 0.033296560610108966\n",
      "Test accuracy: 0.9917\n"
     ]
    }
   ],
   "source": [
    "model.compile(loss=keras.losses.categorical_crossentropy,\n",
    "              optimizer='adam',\n",
    "              metrics=['accuracy'])\n",
    "history=model.fit(x_train, y_train,\n",
    "          batch_size=batch_size,\n",
    "          epochs=epochs,\n",
    "          verbose=1,\n",
    "          validation_data=(x_test, y_test))\n",
    "score = model.evaluate(x_test, y_test, verbose=0)\n",
    "print('Test loss:', score[0])\n",
    "print('Test accuracy:', score[1])\n"
   ]
  },
  {
   "cell_type": "code",
   "execution_count": 0,
   "metadata": {
    "colab": {
     "base_uri": "https://localhost:8080/",
     "height": 317
    },
    "colab_type": "code",
    "id": "MmxSLNPM3ruI",
    "outputId": "be2cc15c-cec7-44e0-ed29-82f513dd4f30"
   },
   "outputs": [
    {
     "name": "stdout",
     "output_type": "stream",
     "text": [
      "Test score: 0.033296560610108966\n",
      "Test accuracy: 0.9917\n"
     ]
    },
    {
     "data": {
      "image/png": "[encoded data removed]",
      "text/plain": [
       "<Figure size 432x288 with 1 Axes>"
      ]
     },
     "metadata": {
      "tags": []
     },
     "output_type": "display_data"
    }
   ],
   "source": [
    "score = model.evaluate(x_test, y_test, verbose=0) \n",
    "print('Test score:', score[0]) \n",
    "print('Test accuracy:', score[1])\n",
    "\n",
    "fig,ax = plt.subplots(1,1)\n",
    "ax.set_xlabel('epoch') ; ax.set_ylabel('Categorical Crossentropy Loss')\n",
    "\n",
    "# list of epoch numbers\n",
    "x = list(range(1,epochs+1))\n",
    "\n",
    "# print(history.history.keys())\n",
    "# dict_keys(['val_loss', 'val_acc', 'loss', 'acc'])\n",
    "# history = model_drop.fit(X_train, Y_train, batch_size=batch_size, epochs=nb_epoch, verbose=1, validation_data=(X_test, Y_test))\n",
    "\n",
    "# we will get val_loss and val_acc only when you pass the paramter validation_data\n",
    "# val_loss : validation loss\n",
    "# val_acc : validation accuracy\n",
    "\n",
    "# loss : training loss\n",
    "# acc : train accuracy\n",
    "# for each key in histrory.histrory we will have a list of length equal to number of epochs\n",
    "\n",
    "vy = history.history['val_loss']\n",
    "ty = history.history['loss']\n",
    "plt_dynamic(x, vy, ty, ax)"
   ]
  },
  {
   "cell_type": "markdown",
   "metadata": {
    "colab_type": "text",
    "id": "M6a3yGIY3Z1b"
   },
   "source": [
    "<h1>7 CONVOLUTION LAYER ARCHITECTURE<h1>"
   ]
  },
  {
   "cell_type": "code",
   "execution_count": 0,
   "metadata": {
    "colab": {},
    "colab_type": "code",
    "id": "f8R6E9WS5KSh"
   },
   "outputs": [],
   "source": [
    "model = Sequential()\n",
    "#layer 1\n",
    "model.add(Conv2D(32, kernel_size=3,input_shape=input_shape, activation = 'relu'))\n",
    "#layer 2\n",
    "model.add(Conv2D(32, kernel_size=3, activation = 'relu'))\n",
    "model.add(MaxPooling2D(2,2))\n",
    "model.add(BatchNormalization())\n",
    "model.add(Dropout(0.4))\n",
    "#layer 3\n",
    "model.add(Conv2D(64, kernel_size=3,activation = 'relu'))\n",
    "#layer 4\n",
    "model.add(Conv2D(64, kernel_size=3,activation = 'relu'))\n",
    "\n",
    "model.add(MaxPooling2D(2,2))\n",
    "model.add(BatchNormalization())\n",
    "model.add(Dropout(0.4))\n",
    "#layer 5\n",
    "model.add(Conv2D(128, kernel_size=5, activation = 'relu'))\n",
    "model.add(Conv2D(128, kernel_size=3, activation = 'relu'))\n",
    "model.add(BatchNormalization())\n",
    "# layer 7\n",
    "model.add(Conv2D(256, kernel_size=3, activation = 'relu'))\n",
    "model.add(Flatten())\n",
    "model.add(Dense(256, activation = \"relu\"))\n",
    "model.add(Dropout(0.4))\n",
    "model.add(Dense(128, activation = \"relu\"))\n",
    "model.add(Dropout(0.4))\n",
    "model.add(Dense(num_classes, activation = \"softmax\"))\n"
   ]
  },
  {
   "cell_type": "code",
   "execution_count": 0,
   "metadata": {
    "colab": {
     "base_uri": "https://localhost:8080/",
     "height": 476
    },
    "colab_type": "code",
    "id": "j-8d-G6f5KSl",
    "outputId": "1e5e79da-027b-4000-c765-aebe886fb907"
   },
   "outputs": [
    {
     "name": "stdout",
     "output_type": "stream",
     "text": [
      "Train on 60000 samples, validate on 10000 samples\n",
      "Epoch 1/12\n",
      "60000/60000 [==============================] - 206s 3ms/step - loss: 0.3546 - acc: 0.8854 - val_loss: 0.0588 - val_acc: 0.9845\n",
      "Epoch 2/12\n",
      "60000/60000 [==============================] - 202s 3ms/step - loss: 0.0912 - acc: 0.9743 - val_loss: 0.0334 - val_acc: 0.9894\n",
      "Epoch 3/12\n",
      "60000/60000 [==============================] - 202s 3ms/step - loss: 0.0671 - acc: 0.9811 - val_loss: 0.0305 - val_acc: 0.9917\n",
      "Epoch 4/12\n",
      "60000/60000 [==============================] - 202s 3ms/step - loss: 0.0545 - acc: 0.9849 - val_loss: 0.0219 - val_acc: 0.9939\n",
      "Epoch 5/12\n",
      "60000/60000 [==============================] - 201s 3ms/step - loss: 0.0495 - acc: 0.9857 - val_loss: 0.0227 - val_acc: 0.9941\n",
      "Epoch 6/12\n",
      "60000/60000 [==============================] - 202s 3ms/step - loss: 0.0449 - acc: 0.9875 - val_loss: 0.0210 - val_acc: 0.9937\n",
      "Epoch 7/12\n",
      "60000/60000 [==============================] - 202s 3ms/step - loss: 0.0409 - acc: 0.9891 - val_loss: 0.0205 - val_acc: 0.9938\n",
      "Epoch 8/12\n",
      "60000/60000 [==============================] - 203s 3ms/step - loss: 0.0369 - acc: 0.9898 - val_loss: 0.0229 - val_acc: 0.9929\n",
      "Epoch 9/12\n",
      "60000/60000 [==============================] - 202s 3ms/step - loss: 0.0346 - acc: 0.9901 - val_loss: 0.0226 - val_acc: 0.9943\n",
      "Epoch 10/12\n",
      "60000/60000 [==============================] - 200s 3ms/step - loss: 0.0329 - acc: 0.9905 - val_loss: 0.0178 - val_acc: 0.9954\n",
      "Epoch 11/12\n",
      "60000/60000 [==============================] - 202s 3ms/step - loss: 0.0330 - acc: 0.9904 - val_loss: 0.0166 - val_acc: 0.9954\n",
      "Epoch 12/12\n",
      "60000/60000 [==============================] - 203s 3ms/step - loss: 0.0303 - acc: 0.9916 - val_loss: 0.0157 - val_acc: 0.9953\n",
      "Test loss: 0.015736917383669696\n",
      "Test accuracy: 0.9953\n"
     ]
    }
   ],
   "source": [
    "model.compile(loss=keras.losses.categorical_crossentropy,\n",
    "              optimizer='adam',\n",
    "              metrics=['accuracy'])\n",
    "history=model.fit(x_train, y_train,\n",
    "          batch_size=batch_size,\n",
    "          epochs=epochs,\n",
    "          verbose=1,\n",
    "          validation_data=(x_test, y_test))\n",
    "score = model.evaluate(x_test, y_test, verbose=0)\n",
    "print('Test loss:', score[0])\n",
    "print('Test accuracy:', score[1])\n"
   ]
  },
  {
   "cell_type": "code",
   "execution_count": 0,
   "metadata": {
    "colab": {
     "base_uri": "https://localhost:8080/",
     "height": 317
    },
    "colab_type": "code",
    "id": "7bf3lWs_5KSp",
    "outputId": "06b2edde-a05a-49d6-ef1b-494e90b60d5a"
   },
   "outputs": [
    {
     "name": "stdout",
     "output_type": "stream",
     "text": [
      "Test score: 0.015736917383669696\n",
      "Test accuracy: 0.9953\n"
     ]
    },
    {
     "data": {
      "image/png": "[encoded data removed]",
      "text/plain": [
       "<Figure size 432x288 with 1 Axes>"
      ]
     },
     "metadata": {
      "tags": []
     },
     "output_type": "display_data"
    }
   ],
   "source": [
    "score = model.evaluate(x_test, y_test, verbose=0) \n",
    "print('Test score:', score[0]) \n",
    "print('Test accuracy:', score[1])\n",
    "\n",
    "fig,ax = plt.subplots(1,1)\n",
    "ax.set_xlabel('epoch') ; ax.set_ylabel('Categorical Crossentropy Loss')\n",
    "\n",
    "# list of epoch numbers\n",
    "x = list(range(1,epochs+1))\n",
    "\n",
    "# print(history.history.keys())\n",
    "# dict_keys(['val_loss', 'val_acc', 'loss', 'acc'])\n",
    "# history = model_drop.fit(X_train, Y_train, batch_size=batch_size, epochs=nb_epoch, verbose=1, validation_data=(X_test, Y_test))\n",
    "\n",
    "# we will get val_loss and val_acc only when you pass the paramter validation_data\n",
    "# val_loss : validation loss\n",
    "# val_acc : validation accuracy\n",
    "\n",
    "# loss : training loss\n",
    "# acc : train accuracy\n",
    "# for each key in histrory.histrory we will have a list of length equal to number of epochs\n",
    "\n",
    "vy = history.history['val_loss']\n",
    "ty = history.history['loss']\n",
    "plt_dynamic(x, vy, ty, ax)"
   ]
  },
  {
   "cell_type": "markdown",
   "metadata": {
    "colab_type": "text",
    "id": "N_rh9BIrXcLn"
   },
   "source": [
    "<h1> FEW More ARchitecture </h1>"
   ]
  },
  {
   "cell_type": "markdown",
   "metadata": {
    "colab_type": "text",
    "id": "w3GNpLnvZD4m"
   },
   "source": [
    "__simple model without batch normalization or dropout__ "
   ]
  },
  {
   "cell_type": "code",
   "execution_count": 0,
   "metadata": {
    "colab": {},
    "colab_type": "code",
    "id": "GCu3NfwmWa-Z"
   },
   "outputs": [],
   "source": [
    "model= Sequential()\n",
    "model.add(Conv2D(32, (3, 3), padding=\"same\",input_shape=input_shape, activation=\"relu\"))\n",
    "model.add(MaxPooling2D(pool_size=(2, 2)))\n",
    "model.add(Conv2D(64, (3, 3), padding=\"same\", activation=\"relu\"))\n",
    "model.add(MaxPooling2D(pool_size=(2, 2)))\n",
    "model.add(Conv2D(128, (3, 3), padding=\"same\", activation=\"relu\"))\n",
    "model.add(MaxPooling2D(pool_size=(2, 2)))\n",
    "model.add(Flatten())\n",
    "model.add(Dense(256, activation = \"relu\"))\n",
    "model.add(Dropout(0.4))\n",
    "model.add(Dense(128, activation = \"relu\"))\n",
    "model.add(Dropout(0.4))\n",
    "model.add(Dense(num_classes, activation = \"softmax\"))"
   ]
  },
  {
   "cell_type": "code",
   "execution_count": 7,
   "metadata": {
    "colab": {
     "base_uri": "https://localhost:8080/",
     "height": 476
    },
    "colab_type": "code",
    "id": "ogEM2mPxXsYB",
    "outputId": "69d6bc71-7b36-4f8e-9989-bfc85010529d"
   },
   "outputs": [
    {
     "name": "stdout",
     "output_type": "stream",
     "text": [
      "Train on 60000 samples, validate on 10000 samples\n",
      "Epoch 1/12\n",
      "60000/60000 [==============================] - 98s 2ms/step - loss: 0.2345 - acc: 0.9274 - val_loss: 0.0438 - val_acc: 0.9845\n",
      "Epoch 2/12\n",
      "60000/60000 [==============================] - 97s 2ms/step - loss: 0.0753 - acc: 0.9794 - val_loss: 0.0395 - val_acc: 0.9889\n",
      "Epoch 3/12\n",
      "60000/60000 [==============================] - 97s 2ms/step - loss: 0.0524 - acc: 0.9844 - val_loss: 0.0258 - val_acc: 0.9912\n",
      "Epoch 4/12\n",
      "60000/60000 [==============================] - 96s 2ms/step - loss: 0.0414 - acc: 0.9881 - val_loss: 0.0281 - val_acc: 0.9923\n",
      "Epoch 5/12\n",
      "60000/60000 [==============================] - 96s 2ms/step - loss: 0.0326 - acc: 0.9909 - val_loss: 0.0285 - val_acc: 0.9917\n",
      "Epoch 6/12\n",
      "60000/60000 [==============================] - 96s 2ms/step - loss: 0.0290 - acc: 0.9914 - val_loss: 0.0235 - val_acc: 0.9927\n",
      "Epoch 7/12\n",
      "60000/60000 [==============================] - 96s 2ms/step - loss: 0.0244 - acc: 0.9930 - val_loss: 0.0204 - val_acc: 0.9942\n",
      "Epoch 8/12\n",
      "60000/60000 [==============================] - 97s 2ms/step - loss: 0.0217 - acc: 0.9935 - val_loss: 0.0227 - val_acc: 0.9940\n",
      "Epoch 9/12\n",
      "60000/60000 [==============================] - 97s 2ms/step - loss: 0.0199 - acc: 0.9943 - val_loss: 0.0261 - val_acc: 0.9927\n",
      "Epoch 10/12\n",
      "60000/60000 [==============================] - 97s 2ms/step - loss: 0.0190 - acc: 0.9943 - val_loss: 0.0205 - val_acc: 0.9936\n",
      "Epoch 11/12\n",
      "60000/60000 [==============================] - 97s 2ms/step - loss: 0.0143 - acc: 0.9958 - val_loss: 0.0261 - val_acc: 0.9926\n",
      "Epoch 12/12\n",
      "60000/60000 [==============================] - 97s 2ms/step - loss: 0.0165 - acc: 0.9951 - val_loss: 0.0216 - val_acc: 0.9937\n",
      "Test loss: 0.021570019691434437\n",
      "Test accuracy: 0.9937\n"
     ]
    }
   ],
   "source": [
    "model.compile(loss=keras.losses.categorical_crossentropy,\n",
    "              optimizer='adam',\n",
    "              metrics=['accuracy'])\n",
    "history=model.fit(x_train, y_train,\n",
    "          batch_size=batch_size,\n",
    "          epochs=epochs,\n",
    "          verbose=1,\n",
    "          validation_data=(x_test, y_test))\n",
    "score = model.evaluate(x_test, y_test, verbose=0)\n",
    "print('Test loss:', score[0])\n",
    "print('Test accuracy:', score[1])"
   ]
  },
  {
   "cell_type": "code",
   "execution_count": 8,
   "metadata": {
    "colab": {
     "base_uri": "https://localhost:8080/",
     "height": 317
    },
    "colab_type": "code",
    "id": "AM26w3OgdqOT",
    "outputId": "25370207-5a96-4512-c520-c5a2b315644f"
   },
   "outputs": [
    {
     "name": "stdout",
     "output_type": "stream",
     "text": [
      "Test score: 0.021570019691434437\n",
      "Test accuracy: 0.9937\n"
     ]
    },
    {
     "data": {
      "image/png": "[encoded data removed]",
      "text/plain": [
       "<Figure size 432x288 with 1 Axes>"
      ]
     },
     "metadata": {
      "tags": []
     },
     "output_type": "display_data"
    }
   ],
   "source": [
    "score = model.evaluate(x_test, y_test, verbose=0) \n",
    "print('Test score:', score[0]) \n",
    "print('Test accuracy:', score[1])\n",
    "\n",
    "fig,ax = plt.subplots(1,1)\n",
    "ax.set_xlabel('epoch') ; ax.set_ylabel('Categorical Crossentropy Loss')\n",
    "\n",
    "# list of epoch numbers\n",
    "x = list(range(1,epochs+1))\n",
    "\n",
    "# print(history.history.keys())\n",
    "# dict_keys(['val_loss', 'val_acc', 'loss', 'acc'])\n",
    "# history = model_drop.fit(X_train, Y_train, batch_size=batch_size, epochs=nb_epoch, verbose=1, validation_data=(X_test, Y_test))\n",
    "\n",
    "# we will get val_loss and val_acc only when you pass the paramter validation_data\n",
    "# val_loss : validation loss\n",
    "# val_acc : validation accuracy\n",
    "\n",
    "# loss : training loss\n",
    "# acc : train accuracy\n",
    "# for each key in histrory.histrory we will have a list of length equal to number of epochs\n",
    "\n",
    "vy = history.history['val_loss']\n",
    "ty = history.history['loss']\n",
    "plt_dynamic(x, vy, ty, ax)"
   ]
  },
  {
   "cell_type": "markdown",
   "metadata": {
    "colab_type": "text",
    "id": "wECyp0ozdsI0"
   },
   "source": [
    "__with weights initialization and sigmoid function__"
   ]
  },
  {
   "cell_type": "code",
   "execution_count": 10,
   "metadata": {
    "colab": {
     "base_uri": "https://localhost:8080/",
     "height": 139
    },
    "colab_type": "code",
    "id": "I67elwKMd022",
    "outputId": "70561a7b-f729-4f40-fc8a-5f9a06574747"
   },
   "outputs": [
    {
     "name": "stderr",
     "output_type": "stream",
     "text": [
      "/usr/local/lib/python3.6/dist-packages/ipykernel_launcher.py:2: UserWarning: Update your `Conv2D` call to the Keras 2 API: `Conv2D(32, (3, 3), padding=\"same\", input_shape=(28, 28, 1..., activation=\"sigmoid\", kernel_initializer=\"glorot_uniform\")`\n",
      "  \n",
      "/usr/local/lib/python3.6/dist-packages/ipykernel_launcher.py:4: UserWarning: Update your `Conv2D` call to the Keras 2 API: `Conv2D(64, (3, 3), padding=\"same\", activation=\"sigmoid\", kernel_initializer=\"glorot_uniform\")`\n",
      "  after removing the cwd from sys.path.\n",
      "/usr/local/lib/python3.6/dist-packages/ipykernel_launcher.py:6: UserWarning: Update your `Conv2D` call to the Keras 2 API: `Conv2D(128, (3, 3), padding=\"same\", activation=\"relu\", kernel_initializer=\"glorot_uniform\")`\n",
      "  \n"
     ]
    }
   ],
   "source": [
    "model= Sequential()\n",
    "model.add(Conv2D(32, (3, 3),init='glorot_uniform', padding=\"same\",input_shape=input_shape, activation=\"sigmoid\"))\n",
    "model.add(MaxPooling2D(pool_size=(2, 2)))\n",
    "model.add(Conv2D(64, (3, 3), init='glorot_uniform',padding=\"same\", activation=\"sigmoid\"))\n",
    "model.add(MaxPooling2D(pool_size=(2, 2)))\n",
    "model.add(Conv2D(128, (3, 3),init='glorot_uniform', padding=\"same\", activation=\"relu\"))\n",
    "model.add(MaxPooling2D(pool_size=(2, 2)))\n",
    "model.add(Flatten())\n",
    "model.add(Dense(256, activation = \"sigmoid\"))\n",
    "model.add(Dropout(0.4))\n",
    "model.add(Dense(128, activation = \"sigmoid\"))\n",
    "model.add(Dropout(0.4))\n",
    "model.add(Dense(num_classes, activation = \"softmax\"))"
   ]
  },
  {
   "cell_type": "code",
   "execution_count": 11,
   "metadata": {
    "colab": {
     "base_uri": "https://localhost:8080/",
     "height": 476
    },
    "colab_type": "code",
    "id": "1-5S0wVWd06O",
    "outputId": "83a814e1-d104-47dc-e7b3-e0b690012e45"
   },
   "outputs": [
    {
     "name": "stdout",
     "output_type": "stream",
     "text": [
      "Train on 60000 samples, validate on 10000 samples\n",
      "Epoch 1/12\n",
      "60000/60000 [==============================] - 98s 2ms/step - loss: 2.3188 - acc: 0.1052 - val_loss: 2.3011 - val_acc: 0.1135\n",
      "Epoch 2/12\n",
      "60000/60000 [==============================] - 97s 2ms/step - loss: 2.3019 - acc: 0.1102 - val_loss: 2.3015 - val_acc: 0.1135\n",
      "Epoch 3/12\n",
      "60000/60000 [==============================] - 97s 2ms/step - loss: 2.3018 - acc: 0.1118 - val_loss: 2.3011 - val_acc: 0.1135\n",
      "Epoch 4/12\n",
      "60000/60000 [==============================] - 97s 2ms/step - loss: 2.3015 - acc: 0.1121 - val_loss: 2.3011 - val_acc: 0.1135\n",
      "Epoch 5/12\n",
      "60000/60000 [==============================] - 97s 2ms/step - loss: 2.3014 - acc: 0.1123 - val_loss: 2.3011 - val_acc: 0.1135\n",
      "Epoch 6/12\n",
      "60000/60000 [==============================] - 97s 2ms/step - loss: 2.3013 - acc: 0.1123 - val_loss: 2.3011 - val_acc: 0.1135\n",
      "Epoch 7/12\n",
      "60000/60000 [==============================] - 97s 2ms/step - loss: 2.3014 - acc: 0.1121 - val_loss: 2.3010 - val_acc: 0.1135\n",
      "Epoch 8/12\n",
      "60000/60000 [==============================] - 96s 2ms/step - loss: 2.0483 - acc: 0.2180 - val_loss: 0.4247 - val_acc: 0.8751\n",
      "Epoch 9/12\n",
      "60000/60000 [==============================] - 95s 2ms/step - loss: 0.2256 - acc: 0.9342 - val_loss: 0.1005 - val_acc: 0.9682\n",
      "Epoch 10/12\n",
      "60000/60000 [==============================] - 96s 2ms/step - loss: 0.1124 - acc: 0.9670 - val_loss: 0.0628 - val_acc: 0.9820\n",
      "Epoch 11/12\n",
      "60000/60000 [==============================] - 96s 2ms/step - loss: 0.0855 - acc: 0.9751 - val_loss: 0.0567 - val_acc: 0.9826\n",
      "Epoch 12/12\n",
      "60000/60000 [==============================] - 96s 2ms/step - loss: 0.0708 - acc: 0.9792 - val_loss: 0.0490 - val_acc: 0.9852\n",
      "Test loss: 0.049031224502064284\n",
      "Test accuracy: 0.9852\n"
     ]
    }
   ],
   "source": [
    "model.compile(loss=keras.losses.categorical_crossentropy,\n",
    "              optimizer='Adagrad',\n",
    "              metrics=['accuracy'])\n",
    "history=model.fit(x_train, y_train,\n",
    "          batch_size=batch_size,\n",
    "          epochs=epochs,\n",
    "          verbose=1,\n",
    "          validation_data=(x_test, y_test))\n",
    "score = model.evaluate(x_test, y_test, verbose=0)\n",
    "print('Test loss:', score[0])\n",
    "print('Test accuracy:', score[1])"
   ]
  },
  {
   "cell_type": "code",
   "execution_count": 12,
   "metadata": {
    "colab": {
     "base_uri": "https://localhost:8080/",
     "height": 317
    },
    "colab_type": "code",
    "id": "aSSyI-SAkmz_",
    "outputId": "793a09a8-619e-47cb-db8a-fdb51f84a866"
   },
   "outputs": [
    {
     "name": "stdout",
     "output_type": "stream",
     "text": [
      "Test score: 0.049031224502064284\n",
      "Test accuracy: 0.9852\n"
     ]
    },
    {
     "data": {
      "image/png": "[encoded data removed]",
      "text/plain": [
       "<Figure size 432x288 with 1 Axes>"
      ]
     },
     "metadata": {
      "tags": []
     },
     "output_type": "display_data"
    }
   ],
   "source": [
    "score = model.evaluate(x_test, y_test, verbose=0) \n",
    "print('Test score:', score[0]) \n",
    "print('Test accuracy:', score[1])\n",
    "\n",
    "fig,ax = plt.subplots(1,1)\n",
    "ax.set_xlabel('epoch') ; ax.set_ylabel('Categorical Crossentropy Loss')\n",
    "\n",
    "# list of epoch numbers\n",
    "x = list(range(1,epochs+1))\n",
    "\n",
    "# print(history.history.keys())\n",
    "# dict_keys(['val_loss', 'val_acc', 'loss', 'acc'])\n",
    "# history = model_drop.fit(X_train, Y_train, batch_size=batch_size, epochs=nb_epoch, verbose=1, validation_data=(X_test, Y_test))\n",
    "\n",
    "# we will get val_loss and val_acc only when you pass the paramter validation_data\n",
    "# val_loss : validation loss\n",
    "# val_acc : validation accuracy\n",
    "\n",
    "# loss : training loss\n",
    "# acc : train accuracy\n",
    "# for each key in histrory.histrory we will have a list of length equal to number of epochs\n",
    "\n",
    "vy = history.history['val_loss']\n",
    "ty = history.history['loss']\n",
    "plt_dynamic(x, vy, ty, ax)"
   ]
  },
  {
   "cell_type": "code",
   "execution_count": 0,
   "metadata": {
    "colab": {},
    "colab_type": "code",
    "id": "pTgekzGZlYP0"
   },
   "outputs": [],
   "source": [
    "model= Sequential()\n",
    "model.add(Conv2D(32, (3, 3), padding=\"valid\",input_shape=input_shape, activation=\"relu\"))\n",
    "model.add(MaxPooling2D(pool_size=(2, 2)))\n",
    "model.add(Dropout(0.2))\n",
    "model.add(Conv2D(64, (3, 3), padding=\"valid\", activation=\"relu\"))\n",
    "model.add(MaxPooling2D(pool_size=(2, 2)))\n",
    "model.add(Dropout(0.3))\n",
    "model.add(Conv2D(128, (3, 3), padding=\"valid\", activation=\"relu\"))\n",
    "model.add(MaxPooling2D(pool_size=(2, 2)))\n",
    "model.add(Dropout(0.5))\n",
    "model.add(Flatten())\n",
    "model.add(Dense(256, activation = \"relu\"))\n",
    "model.add(Dropout(0.4))\n",
    "model.add(Dense(128, activation = \"relu\"))\n",
    "model.add(Dropout(0.4))\n",
    "model.add(Dense(num_classes, activation = \"softmax\"))"
   ]
  },
  {
   "cell_type": "code",
   "execution_count": 14,
   "metadata": {
    "colab": {
     "base_uri": "https://localhost:8080/",
     "height": 476
    },
    "colab_type": "code",
    "id": "hZ_vCvSSmmC6",
    "outputId": "3d597019-b0a0-434e-c197-f067ce41b5df"
   },
   "outputs": [
    {
     "name": "stdout",
     "output_type": "stream",
     "text": [
      "Train on 60000 samples, validate on 10000 samples\n",
      "Epoch 1/12\n",
      "60000/60000 [==============================] - 60s 1ms/step - loss: 0.7028 - acc: 0.7663 - val_loss: 0.1179 - val_acc: 0.9642\n",
      "Epoch 2/12\n",
      "60000/60000 [==============================] - 60s 993us/step - loss: 0.2219 - acc: 0.9375 - val_loss: 0.0804 - val_acc: 0.9754\n",
      "Epoch 3/12\n",
      "60000/60000 [==============================] - 59s 982us/step - loss: 0.1747 - acc: 0.9510 - val_loss: 0.0672 - val_acc: 0.9813\n",
      "Epoch 4/12\n",
      "60000/60000 [==============================] - 58s 968us/step - loss: 0.1459 - acc: 0.9589 - val_loss: 0.0628 - val_acc: 0.9819\n",
      "Epoch 5/12\n",
      "60000/60000 [==============================] - 58s 971us/step - loss: 0.1325 - acc: 0.9643 - val_loss: 0.0623 - val_acc: 0.9820\n",
      "Epoch 6/12\n",
      "60000/60000 [==============================] - 58s 973us/step - loss: 0.1175 - acc: 0.9667 - val_loss: 0.0486 - val_acc: 0.9866\n",
      "Epoch 7/12\n",
      "60000/60000 [==============================] - 58s 968us/step - loss: 0.1115 - acc: 0.9691 - val_loss: 0.0486 - val_acc: 0.9864\n",
      "Epoch 8/12\n",
      "60000/60000 [==============================] - 58s 970us/step - loss: 0.1025 - acc: 0.9716 - val_loss: 0.0532 - val_acc: 0.9859\n",
      "Epoch 9/12\n",
      "60000/60000 [==============================] - 58s 969us/step - loss: 0.0966 - acc: 0.9726 - val_loss: 0.0494 - val_acc: 0.9877\n",
      "Epoch 10/12\n",
      "60000/60000 [==============================] - 58s 971us/step - loss: 0.0931 - acc: 0.9733 - val_loss: 0.0463 - val_acc: 0.9870\n",
      "Epoch 11/12\n",
      "60000/60000 [==============================] - 58s 974us/step - loss: 0.0883 - acc: 0.9751 - val_loss: 0.0424 - val_acc: 0.9889\n",
      "Epoch 12/12\n",
      "60000/60000 [==============================] - 58s 968us/step - loss: 0.0856 - acc: 0.9752 - val_loss: 0.0394 - val_acc: 0.9886\n",
      "Test loss: 0.039374526307734775\n",
      "Test accuracy: 0.9886\n"
     ]
    }
   ],
   "source": [
    "model.compile(loss=keras.losses.categorical_crossentropy,\n",
    "              optimizer='adam',\n",
    "              metrics=['accuracy'])\n",
    "history=model.fit(x_train, y_train,\n",
    "          batch_size=batch_size,\n",
    "          epochs=epochs,\n",
    "          verbose=1,\n",
    "          validation_data=(x_test, y_test))\n",
    "score = model.evaluate(x_test, y_test, verbose=0)\n",
    "print('Test loss:', score[0])\n",
    "print('Test accuracy:', score[1])"
   ]
  },
  {
   "cell_type": "code",
   "execution_count": 16,
   "metadata": {
    "colab": {
     "base_uri": "https://localhost:8080/",
     "height": 317
    },
    "colab_type": "code",
    "id": "pUWiAYVfmrTb",
    "outputId": "9997492b-eaa2-4870-f12b-1c604821e23d"
   },
   "outputs": [
    {
     "name": "stdout",
     "output_type": "stream",
     "text": [
      "Test score: 0.039374526307734775\n",
      "Test accuracy: 0.9886\n"
     ]
    },
    {
     "data": {
      "image/png": "[encoded data removed]",
      "text/plain": [
       "<Figure size 432x288 with 1 Axes>"
      ]
     },
     "metadata": {
      "tags": []
     },
     "output_type": "display_data"
    }
   ],
   "source": [
    "score = model.evaluate(x_test, y_test, verbose=0) \n",
    "print('Test score:', score[0]) \n",
    "print('Test accuracy:', score[1])\n",
    "\n",
    "fig,ax = plt.subplots(1,1)\n",
    "ax.set_xlabel('epoch') ; ax.set_ylabel('Categorical Crossentropy Loss')\n",
    "\n",
    "# list of epoch numbers\n",
    "x = list(range(1,epochs+1))\n",
    "\n",
    "# print(history.history.keys())\n",
    "# dict_keys(['val_loss', 'val_acc', 'loss', 'acc'])\n",
    "# history = model_drop.fit(X_train, Y_train, batch_size=batch_size, epochs=nb_epoch, verbose=1, validation_data=(X_test, Y_test))\n",
    "\n",
    "# we will get val_loss and val_acc only when you pass the paramter validation_data\n",
    "# val_loss : validation loss\n",
    "# val_acc : validation accuracy\n",
    "\n",
    "# loss : training loss\n",
    "# acc : train accuracy\n",
    "# for each key in histrory.histrory we will have a list of length equal to number of epochs\n",
    "\n",
    "vy = history.history['val_loss']\n",
    "ty = history.history['loss']\n",
    "plt_dynamic(x, vy, ty, ax)"
   ]
  },
  {
   "cell_type": "markdown",
   "metadata": {
    "colab_type": "text",
    "id": "ClmsIyPrmxp8"
   },
   "source": [
    "<h1>CONCLUSION</h1>"
   ]
  },
  {
   "cell_type": "code",
   "execution_count": 22,
   "metadata": {
    "colab": {
     "base_uri": "https://localhost:8080/",
     "height": 187
    },
    "colab_type": "code",
    "id": "jdpM00rkSL--",
    "outputId": "8b2dd313-9030-4208-c6a2-06bed2603602"
   },
   "outputs": [
    {
     "name": "stdout",
     "output_type": "stream",
     "text": [
      "+------------------------------------------------+--------------------------------------------------------+-----------+--------+\n",
      "|                     Layers                     |                    TECHNIQUES USED                     | Accuracy  |  Loss  |\n",
      "+------------------------------------------------+--------------------------------------------------------+-----------+--------+\n",
      "|             3 LAYERS ARCHITECTURE              |                    Pooling Dropout                     |   0.988   | 0.068  |\n",
      "|             5 LAYERS ARCHITECTURE              |         Pooling , Dropout, BatchNormalization          |   0.9917  |  0.33  |\n",
      "|             7 LAYERS ARCHITECTURE              |         Pooling , Dropout, BatchNormalization          |   0.9953  | 0.015  |\n",
      "|              SIMPLE ARCHITECTURE               |                        Pooling                         |   0.9938  | 0.0215 |\n",
      "|  SIMPLE ARCHITECTURE with Sigmoid Activation   | weight Initialization,Pooling,Dropout,Padding ='valid' |   0.9852  | 0.049  |\n",
      "| SIMPLE ARCHITECTURe and Different Dropout Rate |             Pooling,Dropout,Paddin='valid'             |   0.9886  | 0.039  |\n",
      "+------------------------------------------------+--------------------------------------------------------+-----------+--------+\n"
     ]
    }
   ],
   "source": [
    "#!/usr/bin/python3\n",
    "\n",
    "from prettytable import PrettyTable\n",
    "    \n",
    "x = PrettyTable()\n",
    "\n",
    "x.field_names = [\"Layers\",\"TECHNIQUES USED\" ,\"Accuracy \", \"Loss\"]\n",
    "\n",
    "x.add_row([\"3 LAYERS ARCHITECTURE\",\"Pooling Dropout\",0.988, 0.068])\n",
    "x.add_row([\"5 LAYERS ARCHITECTURE\",\"Pooling , Dropout, BatchNormalization\",0.9917, 0.33 ])\n",
    "x.add_row([\"7 LAYERS ARCHITECTURE\",\"Pooling , Dropout, BatchNormalization\",0.9953,0.015 ])\n",
    "x.add_row([\"SIMPLE ARCHITECTURE\",\"Pooling\",0.9938,0.0215 ])\n",
    "x.add_row([\"SIMPLE ARCHITECTURE with Sigmoid Activation\",\"weight Initialization,Pooling,Dropout,Padding ='valid'\",0.9852,0.049 ])\n",
    "x.add_row([\"SIMPLE ARCHITECTURe and Different Dropout Rate\",\"Pooling,Dropout,Paddin='valid'\",0.9886,0.039 ])\n",
    "\n",
    "print(x)"
   ]
  },
  {
   "cell_type": "markdown",
   "metadata": {
    "colab_type": "text",
    "id": "q6AtR2KQm9JY"
   },
   "source": [
    "<h1>SUMMARY :-\n",
    "(what i have done)</h1>\n",
    "1.The model type that we will be using is Sequential. Sequential is the    easiest way to build a model in Keras. It allows you to build a model layer by layer.\n",
    "\n",
    "2.we use add to add layers in our model.<br>\n",
    "\n",
    "3.Kernel means the size of filter matrix we use.<br>\n",
    "3 x 3 kernel means the kernel we are using is of size 3<br>\n",
    "\n",
    "4.Activation function we use is RELU and Sigmoid.Refer this for more information.(https://towardsdatascience.com/activation-functions-neural-networks-1cbd9f8d91d6)<br>\n",
    "\n",
    "5.In between the Conv2D layers and the dense layer, there is a ‘Flatten’ layer. Flatten serves as a connection between the convolution and dense layers.<br>\n",
    "\n",
    "6.Dense is the layer type we will use in for our output layer. we will use dense because in general we use dense layer for neural network.\n",
    "\n",
    "7.We are using softmax in last layer because our problem is MNIST which is multiclass classification problem.\n",
    "\n",
    "8.After adding all the layers we need to compile the model.It consists of three parameters loss optimizer and metrics.\n",
    "\n",
    "9, then we fit our model to check the accuracy of train and test dataset after compiling.\n",
    "\n"
   ]
  },
  {
   "cell_type": "markdown",
   "metadata": {
    "colab_type": "text",
    "id": "lnN-Ntj1lr6r"
   },
   "source": [
    "<h1> OBSERVATION </h1>\n",
    "1.i have tried three different architecture 3 layer , 5 layer and 7 layer architecture.<br>\n",
    "2.i applied various techniques to increase accuracy (like Batch Normalization , Dropout etc)<br>\n",
    "3.i get the highes accurcy of 0.9953 by 7 layer.<br>\n",
    "4.when i use simoid activation we are getting accuracy of 0.10 upto 5 epochs after that it starts increasing."
   ]
  },
  {
   "cell_type": "markdown",
   "metadata": {
    "colab_type": "text",
    "id": "srxwU4VD-Qzb"
   },
   "source": [
    "<h1>END</h1>"
   ]
  }
 ],
 "metadata": {
  "colab": {
   "collapsed_sections": [],
   "name": "amanvaryani123_gmail_com_13.ipynb",
   "provenance": [],
   "version": "0.3.2"
  },
  "kernelspec": {
   "display_name": "Python 3",
   "language": "python",
   "name": "python3"
  },
  "language_info": {
   "codemirror_mode": {
    "name": "ipython",
    "version": 3
   },
   "file_extension": ".py",
   "mimetype": "text/x-python",
   "name": "python",
   "nbconvert_exporter": "python",
   "pygments_lexer": "ipython3",
   "version": "3.6.5"
  }
 },
 "nbformat": 4,
 "nbformat_minor": 1
}
